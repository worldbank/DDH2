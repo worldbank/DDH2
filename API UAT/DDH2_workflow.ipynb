{
 "cells": [
  {
   "cell_type": "markdown",
   "metadata": {},
   "source": [
    "## Initial API workflow for DDH2.0\n",
    "\n",
    "- Add a dataset\n",
    "- Add resources\n",
    "- Update existing resources\n",
    "- Publish the dataset\n",
    "- Move dataset from Publish to Draft\n",
    "- Make changes to draft version and re-publish dataset\n",
    "- View data/metadata versions\n",
    "- Update existing versions "
   ]
  },
  {
   "cell_type": "code",
   "execution_count": 2,
   "metadata": {},
   "outputs": [],
   "source": [
    "import urllib\n",
    "import requests\n",
    "import zipfile\n",
    "from msrestazure.azure_active_directory import AADTokenCredentials\n",
    "\n",
    "## Other required imports\n",
    "import adal, uuid, time\n",
    "from datetime import datetime as dt\n",
    "import numpy as np\n",
    "import pandas as pd\n",
    "import json\n",
    "\n",
    "import os, sys\n",
    "sys.path.append(\"../../API/RomaniaHub/ddh2_testing\")\n",
    "from ddh2 import dataset\n",
    "\n",
    "sys.path.append(\"../../API/pyddh\")\n",
    "import ddh\n",
    "ddh.load('ddh1stg.prod.acquia-sites.com')"
   ]
  },
  {
   "cell_type": "code",
   "execution_count": 5,
   "metadata": {},
   "outputs": [],
   "source": [
    "with open(\"sample_params.json\") as f:\n",
    "    sample_parameters = json.load(f)"
   ]
  },
  {
   "cell_type": "code",
   "execution_count": 2,
   "metadata": {},
   "outputs": [],
   "source": [
    "ddh_config = {}\n",
    "ddh_config['host'] = \"ddh1stg.prod.acquia-sites.com\"\n",
    "ddh_config['protocol'] = 'https'\n",
    "ddh_config['authorityHostUrl'] = sample_parameters['authorityHostUrl']\n",
    "ddh_config['clientId'] = sample_parameters['clientId']\n",
    "ddh_config['tenant'] = sample_parameters['tenant']\n",
    "ddh_config['resource'] = sample_parameters['resource']"
   ]
  },
  {
   "cell_type": "code",
   "execution_count": 7,
   "metadata": {},
   "outputs": [],
   "source": [
    "dataset.load(ddh_config)"
   ]
  },
  {
   "cell_type": "markdown",
   "metadata": {},
   "source": [
    "#### Adding dataset"
   ]
  },
  {
   "cell_type": "code",
   "execution_count": 5,
   "metadata": {},
   "outputs": [],
   "source": [
    "full_ds = {\n",
    "    \"Dataset\": {\n",
    "        \"identification\": {\n",
    "            \"title\": \"Workflow Test QA 1\",\n",
    "            \"subtitle\": \"testing the basic workflow\",\n",
    "            \"description\": \"description for testing basic workflow in QA\",\n",
    "            \"acronym\": \"WDI\",\n",
    "            \"topics\": [ \"Agriculture and Food Security\", \"Economic Growth\" ],\n",
    "            \"practice\": { \"code\": \"POV\" },\n",
    "            \"wb_project_reference\": \"P679812\",\n",
    "            \"grant_number\": \"Grant number 01\",\n",
    "            \"collection_id\": [ \"testing 1\", \"Type 2\" ],\n",
    "            \"translated_title\": \"World Development Indicators TEST ENG\",\n",
    "            \"point_of_contact\": [\n",
    "                {\n",
    "                    \"name\": \"Gaurav Bhardwaj\",\n",
    "                    \"role\": \"OWNER\",\n",
    "                    \"email\": \"gbhardwaj@worldbank.org\",\n",
    "                    \"type\": \"TTL\",\n",
    "                    \"upi\": \"000542830\",\n",
    "                    \"is_emailaddress_visibility_externally\": 'true'\n",
    "                },\n",
    "                {\n",
    "                    \"name\": \"User 2\",\n",
    "                    \"role\": \"RESOURCE_PROVIDER\",\n",
    "                    \"email\": \"user2@abc.com\",\n",
    "                    \"type\": \"Type2\",\n",
    "                    \"upi\": \"5577071\",\n",
    "                    \"is_emailaddress_visibility_externally\": 'false'\n",
    "                }\n",
    "            ],\n",
    "            \"dates\": [\n",
    "                {\n",
    "                    \"date\": \"12/01/2020\",\n",
    "                    \"type\": \"Type1\"\n",
    "\n",
    "                },\n",
    "                {\n",
    "                    \"date\": \"12/02/2020\",\n",
    "                    \"type\": \"Type2\"\n",
    "\n",
    "                }\n",
    "            ],\n",
    "            \"language_supported\": [\n",
    "                {\n",
    "                    \"code\": \"EN\"\n",
    "                },\n",
    "                {\n",
    "                    \"code\": \"FR\"\n",
    "                }\n",
    "            ]\n",
    "        },\n",
    "        \"keywords\": [\n",
    "            {\n",
    "                \"name\": \"Tag 1\"\n",
    "            },\n",
    "            {\n",
    "                \"name\": \"Key Word 1\"\n",
    "            }\n",
    "        ],\n",
    "        \"constraints\": {\n",
    "            \"security\": {\n",
    "                \"classification\": \"OFFICIAL_USE_ONLY\",\n",
    "                \"exception\": \"WBG exception1\",\n",
    "                \"userNote\": \"WBG userNote1\"\n",
    "            },\n",
    "            \"license\": {\n",
    "                \"license_id\": \"Creative Commons 4.0\"\n",
    "            }\n",
    "        },\n",
    "        \"data_quality\": {\n",
    "            \"data_notes\": \"WBG data_notes\"\n",
    "        },\n",
    "        \"temporal_extent\": {\n",
    "            \"end_date\": \"5/27/2020 6:30:00 PM\",\n",
    "            \"start_date\": \"5/26/2020 6:30:00 PM\",\n",
    "            \"description\": \"Temporal description\",\n",
    "            \"duration\": \"1 Month\",\n",
    "            \"coverage\": [ \"Coverage1\", \"Coverage2\" ]\n",
    "        },\n",
    "        \"temporal_resolution\": {\n",
    "            \"periodicity\": \"HOUR_MIN\"\n",
    "        },\n",
    "        \"spatial_resolution\": {\n",
    "            \"granularity\": \"HOUSEHOLD\",\n",
    "            \"pixel_resolution\": \"1024\"\n",
    "        },\n",
    "        \"reference_system\": {\n",
    "            \"reference_id\": \"WBG reference_id\",\n",
    "            \"version\": \"1.0\",\n",
    "            \"map_projection\": \"WBG map_projection\"\n",
    "        },\n",
    "        \"lineage\": {\n",
    "            \"source_type\": \"Government Agency\",\n",
    "            \"source\": \"source\",\n",
    "            \"source_reference\": \"source_reference\",\n",
    "            \"statistical_concept_and_methodology\": \"statistical_concept_and_methodology\",\n",
    "            \"base_period\": \"5/25/2020\",\n",
    "            \"aggregation_method\": \"WBG aggregation_method\",\n",
    "            \"description\": \"WBG description\",\n",
    "            \"related_links_and_publications\": [ \"link1\", \"link2\" ],\n",
    "            \"publication_place\": \"WBG publication_place\",\n",
    "            \"funding_name_abbreviation_role\": [ \"name1\", \"name2\" ],\n",
    "            \"study_type\": \"WBG study_type\",\n",
    "            \"deviations_from_sample_design\": \"WBG deviations_from_sample_design\",\n",
    "            \"other_acknowledgements\": \"WBG other acknowledgements\"\n",
    "        },\n",
    "        \"maintenance_information\": {\n",
    "            \"update_frequency\": \"QUARTER\",\n",
    "            \"update_schedule\": \"April, July, September, December\",\n",
    "            \"maintenance_note\": \"WBG maintenance note1\",\n",
    "            \"embargo_date\": \"5/25/2020 6:30:00 PM\",\n",
    "            \"embargo_comments\": \"WBG embargo comments\",\n",
    "            \"version_description\": \"WBG version description1\",\n",
    "            \"version_production_date\": \"5/25/2020\",\n",
    "            \"version_notes\": \"WBG version notes\"\n",
    "        },\n",
    "        \"subscription\": {\n",
    "            \"subscription_date_from\": \"5/28/2020\",\n",
    "            \"subscription_date_to\": \"5/29/2020\"\n",
    "        }\n",
    "    }\n",
    "}\n"
   ]
  },
  {
   "cell_type": "code",
   "execution_count": 6,
   "metadata": {},
   "outputs": [
    {
     "name": "stderr",
     "output_type": "stream",
     "text": [
      "DEBUG:urllib3.connectionpool:Starting new HTTPS connection (1): ddhinboundapiqa.asestg.worldbank.org:443\n",
      "DEBUG:urllib3.connectionpool:https://ddhinboundapiqa.asestg.worldbank.org:443 \"POST /dataset/create HTTP/1.1\" 200 None\n"
     ]
    }
   ],
   "source": [
    "req = requests.post(\"https://ddhinboundapiqa.asestg.worldbank.org/dataset/create\",\n",
    "                   json = full_ds, headers = dataset.ddh_header)"
   ]
  },
  {
   "cell_type": "code",
   "execution_count": 7,
   "metadata": {},
   "outputs": [
    {
     "data": {
      "text/plain": [
       "'EntityID: 0c69d0f3-60e8-ea11-a817-000d3a33f89d'"
      ]
     },
     "execution_count": 7,
     "metadata": {},
     "output_type": "execute_result"
    }
   ],
   "source": [
    "req.text"
   ]
  },
  {
   "cell_type": "markdown",
   "metadata": {},
   "source": [
    "#### Adding a resource"
   ]
  },
  {
   "cell_type": "code",
   "execution_count": 11,
   "metadata": {
    "code_folding": []
   },
   "outputs": [],
   "source": [
    "res_json = {\n",
    "    \"Resource\": {        \n",
    "        \"dataset_id\":\"0c69d0f3-60e8-ea11-a817-000d3a33f89d\",\n",
    "        \"identification\": {\n",
    "            \"name\": \"Workflow Test - Resource 1\",\n",
    "            \"type\": \"Download\",\n",
    "            \"description\": \"Doc file for Workflow Test 1\",\n",
    "            \"status_log\": \"WBG status_log\",\n",
    "            #\"file_name\": \"wbg.txt\",\n",
    "            \"version\": \"1\",\n",
    "            \"version_date\": \"8/18/2020\",\n",
    "            \"citation\": \"temp citation\",\n",
    "            \"tags\": [\n",
    "                {\n",
    "                    \"name\": \"test_tag\"\n",
    "                },\n",
    "                {\n",
    "                    \"name\": \"uat_testing\"\n",
    "                }\n",
    "            ]\n",
    "        },\n",
    "        \"constraints\": {\n",
    "            \"security\": {\n",
    "                \"data_classification_of_file\": { \"code\": \"OFFICIAL_USE_ONLY\" },\n",
    "                \"exception\": \"Third party confidence\"\n",
    "            }\n",
    "            #\"license\": {\n",
    "            #    \"license_id\": \"WBG license id\",\n",
    "            #    \"custom_license_information\": \"WBG custom license information\",\n",
    "            #    \"license_reference\": \"WBG license reference\"\n",
    "            #}\n",
    "        },\n",
    "        \"distribution\": {\n",
    "            \"format\": \"pdf\",\n",
    "            \"geospatial_api_format\": \"WBG geospatial api format\",\n",
    "            \"url\": \"http://aaaa.com/file.pdf\",\n",
    "            \"website_url\": \"http://aaaa.com\",\n",
    "            \"distribution_description\": \"WBG distribution description\",\n",
    "            \"distribution_format\": \"pdf\",\n",
    "            \"distribution_size\": \"100 MB\"\n",
    "        },       \n",
    "        \"temporal_extent\": {\n",
    "            \"end_date\": \"8/26/2020\",\n",
    "            \"start_date\": \"5/24/2020\",\n",
    "            \"description\": \"temporal resolution test\",\n",
    "            \"temporal_resolution\": \"some resolution\"\n",
    "        }\n",
    "    }\n",
    "}\n"
   ]
  },
  {
   "cell_type": "code",
   "execution_count": 12,
   "metadata": {},
   "outputs": [
    {
     "name": "stderr",
     "output_type": "stream",
     "text": [
      "DEBUG:urllib3.connectionpool:Starting new HTTPS connection (1): ddhinboundapiqa.asestg.worldbank.org:443\n",
      "DEBUG:urllib3.connectionpool:https://ddhinboundapiqa.asestg.worldbank.org:443 \"POST /resource/create HTTP/1.1\" 200 None\n"
     ]
    }
   ],
   "source": [
    "res_create = \"https://ddhinboundapiqa.asestg.worldbank.org/resource/create\"\n",
    "\n",
    "req_res = requests.post(res_create, json = res_json, headers = dataset.ddh_header)"
   ]
  },
  {
   "cell_type": "code",
   "execution_count": 13,
   "metadata": {},
   "outputs": [
    {
     "data": {
      "text/plain": [
       "'EntityID: 1778b03f-61e8-ea11-a817-000d3a33f89d'"
      ]
     },
     "execution_count": 13,
     "metadata": {},
     "output_type": "execute_result"
    }
   ],
   "source": [
    "req_res.text"
   ]
  },
  {
   "cell_type": "markdown",
   "metadata": {},
   "source": [
    "#### Adding resource file"
   ]
  },
  {
   "cell_type": "code",
   "execution_count": null,
   "metadata": {},
   "outputs": [],
   "source": [
    "\n",
    "{\n",
    "\"DatasetUniqueNumber\":\"0004516\",\n",
    "\"DataSetId\":\"0c69d0f3-60e8-ea11-a817-000d3a33f89d\",\n",
    "\"DataResourceUniqueNumber\":\"DR0006717\",\n",
    "\"ResourceId\":\"1778b03f-61e8-ea11-a817-000d3a33f89d\",\n",
    "\"FileName\":\"WDR2011.csv\",\n",
    "\"MimeType\":\"csv\"\n",
    "}\n"
   ]
  },
  {
   "cell_type": "markdown",
   "metadata": {},
   "source": [
    "#### Publish the dataset now"
   ]
  },
  {
   "cell_type": "code",
   "execution_count": 14,
   "metadata": {},
   "outputs": [
    {
     "name": "stderr",
     "output_type": "stream",
     "text": [
      "DEBUG:urllib3.connectionpool:Starting new HTTPS connection (1): ddhinboundapiqa.asestg.worldbank.org:443\n",
      "DEBUG:urllib3.connectionpool:https://ddhinboundapiqa.asestg.worldbank.org:443 \"POST /workflow/updatestatus HTTP/1.1\" 200 None\n"
     ]
    }
   ],
   "source": [
    "publish_url = \"https://ddhinboundapiqa.asestg.worldbank.org/workflow/updatestatus\"\n",
    "\n",
    "publish_js = {\n",
    "    \"id\": \"0c69d0f3-60e8-ea11-a817-000d3a33f89d\",\n",
    "    \"dataset_status\": \"PUBLISHED\",\n",
    "    \"publish_label\":\"v1 publish\"\n",
    "}\n",
    "\n",
    "req_pub = requests.post(publish_url, json = publish_js, headers = dataset.ddh_header)\n"
   ]
  },
  {
   "cell_type": "code",
   "execution_count": 15,
   "metadata": {},
   "outputs": [
    {
     "data": {
      "text/plain": [
       "'EntityID: 9211da06-62e8-ea11-a817-000d3a5bf333'"
      ]
     },
     "execution_count": 15,
     "metadata": {},
     "output_type": "execute_result"
    }
   ],
   "source": [
    "req_pub.text"
   ]
  },
  {
   "cell_type": "markdown",
   "metadata": {},
   "source": [
    "#### At this point dataset is published and the files move from staging to prod."
   ]
  },
  {
   "cell_type": "markdown",
   "metadata": {},
   "source": [
    "#### Adding another resource"
   ]
  },
  {
   "cell_type": "code",
   "execution_count": 14,
   "metadata": {},
   "outputs": [],
   "source": [
    "res_json2 = {\n",
    "    \"Resource\": {        \n",
    "        \"dataset_id\":\"f3ba5f65-efe2-ea11-a813-000d3a8b33eb\",\n",
    "        \"identification\": {\n",
    "            \"name\": \"Workflow Test - Resource 2\",\n",
    "            \"type\": \"Download\",\n",
    "            \"description\": \"Doc file for Workflow Test 2\",\n",
    "            \"status_log\": \"WBG status_log\",\n",
    "            #\"file_name\": \"wbg.txt\",\n",
    "            \"version\": \"1\",\n",
    "            \"version_date\": \"8/18/2020\",\n",
    "            \"citation\": \"temp citation\",\n",
    "            \"tags\": [\n",
    "                {\n",
    "                    \"name\": \"test_tag\"\n",
    "                },\n",
    "                {\n",
    "                    \"name\": \"uat_testing\"\n",
    "                }\n",
    "            ]\n",
    "        },\n",
    "        \"constraints\": {\n",
    "            \"security\": {\n",
    "                \"data_classification_of_file\": { \"code\": \"PUBLIC\" },\n",
    "                \"exception\": \"Third party confidence\"\n",
    "            }\n",
    "            #\"license\": {\n",
    "            #    \"license_id\": \"WBG license id\",\n",
    "            #    \"custom_license_information\": \"WBG custom license information\",\n",
    "            #    \"license_reference\": \"WBG license reference\"\n",
    "            #}\n",
    "        },\n",
    "        \"distribution\": {\n",
    "            #\"format\": \"pdf\",\n",
    "            \"geospatial_api_format\": \"WBG geospatial api format\",\n",
    "            #\"url\": \"http://aaaa.com/file.pdf\",\n",
    "            #\"website_url\": \"http://aaaa.com\",\n",
    "            #\"distribution_description\": \"WBG distribution description\",\n",
    "            #\"distribution_format\": \"pdf\",\n",
    "            #\"distribution_size\": \"100 MB\"\n",
    "        },       \n",
    "        \"temporal_extent\": {\n",
    "            \"end_date\": \"8/26/2020\",\n",
    "            \"start_date\": \"5/24/2020\",\n",
    "            \"description\": \"temporal resolution test\",\n",
    "            \"temporal_resolution\": \"some resolution\"\n",
    "        }\n",
    "    }\n",
    "}\n"
   ]
  },
  {
   "cell_type": "code",
   "execution_count": 15,
   "metadata": {},
   "outputs": [
    {
     "name": "stderr",
     "output_type": "stream",
     "text": [
      "DEBUG:urllib3.connectionpool:Starting new HTTPS connection (1): ddhinboundapiuat.asestg.worldbank.org:443\n",
      "DEBUG:urllib3.connectionpool:https://ddhinboundapiuat.asestg.worldbank.org:443 \"POST /resource/create HTTP/1.1\" 200 None\n"
     ]
    }
   ],
   "source": [
    "res_create = \"https://ddhinboundapiuat.asestg.worldbank.org/resource/create\"\n",
    "\n",
    "req_res = requests.post(res_create, json = res_json2, headers = dataset.ddh_header)"
   ]
  },
  {
   "cell_type": "code",
   "execution_count": 17,
   "metadata": {},
   "outputs": [
    {
     "data": {
      "text/plain": [
       "'EntityID: a5e17900-f6e2-ea11-a813-000d3a8b33eb'"
      ]
     },
     "execution_count": 17,
     "metadata": {},
     "output_type": "execute_result"
    }
   ],
   "source": [
    "req_res.text"
   ]
  },
  {
   "cell_type": "markdown",
   "metadata": {},
   "source": [
    "#### Republihsing the data"
   ]
  },
  {
   "cell_type": "code",
   "execution_count": 18,
   "metadata": {},
   "outputs": [
    {
     "name": "stderr",
     "output_type": "stream",
     "text": [
      "DEBUG:urllib3.connectionpool:Starting new HTTPS connection (1): ddhinboundapiuat.asestg.worldbank.org:443\n",
      "DEBUG:urllib3.connectionpool:https://ddhinboundapiuat.asestg.worldbank.org:443 \"POST /workflow/updatestatus HTTP/1.1\" 200 None\n"
     ]
    }
   ],
   "source": [
    "publish_url = \"https://ddhinboundapiuat.asestg.worldbank.org/workflow/updatestatus\"\n",
    "\n",
    "publish_js = {\n",
    "    \"id\": \"f3ba5f65-efe2-ea11-a813-000d3a8b33eb\",\n",
    "    \"dataset_status\": \"PUBLISHED\",\n",
    "    \"publish_label\":\"v1 publish\"\n",
    "}\n",
    "\n",
    "req_pub2 = requests.post(publish_url, json = publish_js, headers = dataset.ddh_header)\n"
   ]
  },
  {
   "cell_type": "code",
   "execution_count": 19,
   "metadata": {},
   "outputs": [
    {
     "data": {
      "text/plain": [
       "'EntityID: 87deb2a5-f6e2-ea11-a813-000d3a191e87'"
      ]
     },
     "execution_count": 19,
     "metadata": {},
     "output_type": "execute_result"
    }
   ],
   "source": [
    "req_pub2.text"
   ]
  },
  {
   "cell_type": "markdown",
   "metadata": {},
   "source": [
    "#### Adding data file to second resource"
   ]
  },
  {
   "cell_type": "code",
   "execution_count": null,
   "metadata": {},
   "outputs": [],
   "source": [
    "{\n",
    "\"DatasetUniqueNumber\":\"0001103\",\n",
    "\"DataSetId\":\"f3ba5f65-efe2-ea11-a813-000d3a8b33eb\",\n",
    "\"DataResourceUniqueNumber\":\"DR0001056\",\n",
    "\"ResourceId\":\"a5e17900-f6e2-ea11-a813-000d3a8b33eb\",\n",
    "\"FileName\":\"DoingBusiness.docx\",\n",
    "\"MimeType\":\"docx\"\n",
    "}"
   ]
  },
  {
   "cell_type": "markdown",
   "metadata": {},
   "source": [
    "#### Publihsing again with added data file"
   ]
  },
  {
   "cell_type": "code",
   "execution_count": 180,
   "metadata": {},
   "outputs": [
    {
     "name": "stderr",
     "output_type": "stream",
     "text": [
      "DEBUG:urllib3.connectionpool:Starting new HTTPS connection (1): ddhinboundapiuat.asestg.worldbank.org:443\n",
      "DEBUG:urllib3.connectionpool:https://ddhinboundapiuat.asestg.worldbank.org:443 \"POST /workflow/updatestatus HTTP/1.1\" 200 None\n"
     ]
    }
   ],
   "source": [
    "publish_url = \"https://ddhinboundapiuat.asestg.worldbank.org/workflow/updatestatus\"\n",
    "\n",
    "publish_js = {\n",
    "    \"id\": \"f3ba5f65-efe2-ea11-a813-000d3a8b33eb\",\n",
    "    \"dataset_status\": \"PUBLISHED\",\n",
    "    \"publish_label\":\"v5 publish\"\n",
    "}\n",
    "\n",
    "req_pub3 = requests.post(publish_url, json = publish_js, headers = dataset.ddh_header)"
   ]
  },
  {
   "cell_type": "code",
   "execution_count": 181,
   "metadata": {},
   "outputs": [
    {
     "data": {
      "text/plain": [
       "'EntityID: 04cccd50-9ee7-ea11-a817-000d3a191e87'"
      ]
     },
     "execution_count": 181,
     "metadata": {},
     "output_type": "execute_result"
    }
   ],
   "source": [
    "req_pub3.text"
   ]
  },
  {
   "cell_type": "markdown",
   "metadata": {},
   "source": [
    "#### Updating published dataset"
   ]
  },
  {
   "cell_type": "code",
   "execution_count": 9,
   "metadata": {},
   "outputs": [],
   "source": [
    "geo_js = {\n",
    "  \"type\": \"FeatureCollection\",\n",
    "  \"features\": [\n",
    "    {\n",
    "      \"type\": \"Feature\",\n",
    "      \"properties\": {},\n",
    "      \"geometry\": {\n",
    "        \"type\": \"Polygon\",\n",
    "        \"coordinates\": [\n",
    "          [\n",
    "            [\n",
    "              77.1240234375,\n",
    "              28.8831596093235\n",
    "            ],\n",
    "            [\n",
    "              76.80541992187499,\n",
    "              28.51696944040106\n",
    "            ],\n",
    "            [\n",
    "              77.332763671875,\n",
    "              28.256005619824972\n",
    "            ],\n",
    "            [\n",
    "              77.684326171875,\n",
    "              28.565225490654658\n",
    "            ],\n",
    "            [\n",
    "              77.40966796875,\n",
    "              28.87353946316266\n",
    "            ],\n",
    "            [\n",
    "              77.1240234375,\n",
    "              28.8831596093235\n",
    "            ]\n",
    "          ]\n",
    "        ]\n",
    "      }\n",
    "    }\n",
    "  ]\n",
    "}"
   ]
  },
  {
   "cell_type": "code",
   "execution_count": 10,
   "metadata": {},
   "outputs": [],
   "source": [
    "up2_2 = {\"Dataset\" :\n",
    "{\"id\" : \"f3ba5f65-efe2-ea11-a813-000d3a8b33eb\",\n",
    " \"name\": \"Workflow Test 1\",\n",
    "\"identification\" : {\"id\": \"f4ba5f65-efe2-ea11-a813-000d3a8b33eb\",\n",
    "        \"title\": \"Workflow Test 1\"},\n",
    " \"geographical_extent\": {\"id\": \"fdba5f65-efe2-ea11-a813-000d3a8b33eb\",\n",
    "            #\"geo_coverage\": \"WBG geo_coverage\",\n",
    "            \"countries\": [\n",
    "                {\n",
    "                    \"code\": \"IN\"\n",
    "                }\n",
    "            ],\n",
    "            \"bounding_box_geo_json\": str(geo_js),\n",
    "            \"bounding_box\": {\n",
    "                \"west_longitude\": \"77.1240234375\",\n",
    "                \"east_longitude\": \"28.256005619824972\",\n",
    "                \"north_latitude\": \"77.684326171875\",\n",
    "                \"south_latitude\": \"28.8831596093235\"\n",
    "            }\n",
    "        },\n",
    "}\n",
    "}"
   ]
  },
  {
   "cell_type": "code",
   "execution_count": 6,
   "metadata": {},
   "outputs": [],
   "source": [
    "up_poc = {\"Dataset\" :\n",
    "{\"id\" : \"0c69d0f3-60e8-ea11-a817-000d3a33f89d\",\n",
    " #\"name\": \"Workflow Test QA 1\",\n",
    "\"identification\" : {\"id\": \"0d69d0f3-60e8-ea11-a817-000d3a33f89d\",\n",
    "        \"title\": \"Workflow Test QA 1\",\n",
    "        \"grant_number\": \"Grant number # 8762191\"\n",
    "                   }\n",
    "}\n",
    "}"
   ]
  },
  {
   "cell_type": "code",
   "execution_count": 7,
   "metadata": {},
   "outputs": [
    {
     "data": {
      "text/plain": [
       "{'Dataset': {'id': '0c69d0f3-60e8-ea11-a817-000d3a33f89d',\n",
       "  'identification': {'id': '0d69d0f3-60e8-ea11-a817-000d3a33f89d',\n",
       "   'title': 'Workflow Test QA 1',\n",
       "   'grant_number': 'Grant number # 8762191'}}}"
      ]
     },
     "execution_count": 7,
     "metadata": {},
     "output_type": "execute_result"
    }
   ],
   "source": [
    "up_poc"
   ]
  },
  {
   "cell_type": "code",
   "execution_count": 14,
   "metadata": {},
   "outputs": [
    {
     "name": "stderr",
     "output_type": "stream",
     "text": [
      "DEBUG:urllib3.connectionpool:Starting new HTTPS connection (1): ddhinboundapiqa.asestg.worldbank.org:443\n",
      "DEBUG:urllib3.connectionpool:https://ddhinboundapiqa.asestg.worldbank.org:443 \"POST /dataset/update HTTP/1.1\" 200 None\n"
     ]
    }
   ],
   "source": [
    "update_url = \"https://ddhinboundapiqa.asestg.worldbank.org/dataset/update\"\n",
    "\n",
    "req_up_2 = requests.post(update_url, json = up_poc, headers = dataset.ddh_header)"
   ]
  },
  {
   "cell_type": "code",
   "execution_count": 15,
   "metadata": {},
   "outputs": [
    {
     "data": {
      "text/plain": [
       "'EntityID: 0c69d0f3-60e8-ea11-a817-000d3a33f89d'"
      ]
     },
     "execution_count": 15,
     "metadata": {},
     "output_type": "execute_result"
    }
   ],
   "source": [
    "req_up_2.text"
   ]
  },
  {
   "cell_type": "markdown",
   "metadata": {},
   "source": [
    "#### Moving published dataset to DRAFT"
   ]
  },
  {
   "cell_type": "code",
   "execution_count": 75,
   "metadata": {},
   "outputs": [
    {
     "name": "stderr",
     "output_type": "stream",
     "text": [
      "DEBUG:urllib3.connectionpool:Starting new HTTPS connection (1): ddhinboundapiqa.asestg.worldbank.org:443\n",
      "DEBUG:urllib3.connectionpool:https://ddhinboundapiqa.asestg.worldbank.org:443 \"POST /workflow/updatestatus HTTP/1.1\" 200 None\n"
     ]
    }
   ],
   "source": [
    "publish_url = \"https://ddhinboundapiqa.asestg.worldbank.org/workflow/updatestatus\"\n",
    "\n",
    "publish_js = {\n",
    "    \"id\": \"0c69d0f3-60e8-ea11-a817-000d3a33f89d\",\n",
    "    \"dataset_status\": \"DRAFT\",\n",
    "    \"publish_label\": \"v2 draft\"\n",
    "}\n",
    "\n",
    "req_pub4 = requests.post(publish_url, json = publish_js, headers = dataset.ddh_header)"
   ]
  },
  {
   "cell_type": "code",
   "execution_count": 76,
   "metadata": {},
   "outputs": [
    {
     "data": {
      "text/plain": [
       "'EntityID: 0c69d0f3-60e8-ea11-a817-000d3a33f89d'"
      ]
     },
     "execution_count": 76,
     "metadata": {},
     "output_type": "execute_result"
    }
   ],
   "source": [
    "req_pub4.text"
   ]
  },
  {
   "cell_type": "markdown",
   "metadata": {},
   "source": [
    "#### Re-trying metadata update"
   ]
  },
  {
   "cell_type": "code",
   "execution_count": 31,
   "metadata": {},
   "outputs": [
    {
     "name": "stderr",
     "output_type": "stream",
     "text": [
      "DEBUG:urllib3.connectionpool:Starting new HTTPS connection (1): ddhinboundapiuat.asestg.worldbank.org:443\n",
      "DEBUG:urllib3.connectionpool:https://ddhinboundapiuat.asestg.worldbank.org:443 \"POST /dataset/update HTTP/1.1\" 200 None\n"
     ]
    }
   ],
   "source": [
    "update_url = \"https://ddhinboundapiuat.asestg.worldbank.org/dataset/update\"\n",
    "\n",
    "req_up_3 = requests.post(update_url, json = up2_2, headers = dataset.ddh_header)"
   ]
  },
  {
   "cell_type": "code",
   "execution_count": 34,
   "metadata": {},
   "outputs": [
    {
     "data": {
      "text/plain": [
       "'EntityID: f3ba5f65-efe2-ea11-a813-000d3a8b33eb'"
      ]
     },
     "execution_count": 34,
     "metadata": {},
     "output_type": "execute_result"
    }
   ],
   "source": [
    "req_up_3.text"
   ]
  },
  {
   "cell_type": "markdown",
   "metadata": {},
   "source": [
    "#### Publihsing updated data"
   ]
  },
  {
   "cell_type": "code",
   "execution_count": 168,
   "metadata": {},
   "outputs": [
    {
     "name": "stderr",
     "output_type": "stream",
     "text": [
      "DEBUG:urllib3.connectionpool:Starting new HTTPS connection (1): ddhinboundapiuat.asestg.worldbank.org:443\n",
      "DEBUG:urllib3.connectionpool:https://ddhinboundapiuat.asestg.worldbank.org:443 \"POST /workflow/updatestatus HTTP/1.1\" 417 55\n"
     ]
    }
   ],
   "source": [
    "publish_url = \"https://ddhinboundapiuat.asestg.worldbank.org/workflow/updatestatus\"\n",
    "\n",
    "publish_js = {\n",
    "    \"id\": \"f3ba5f65-efe2-ea11-a813-000d3a8b33eb\",\n",
    "    \"dataset_status\": \"PUBLISHED\",\n",
    "    \"publish_label\": \"v9 publish\"\n",
    "}\n",
    "\n",
    "req_pub5 = requests.post(publish_url, json = publish_js, headers = dataset.ddh_header)"
   ]
  },
  {
   "cell_type": "code",
   "execution_count": 169,
   "metadata": {},
   "outputs": [
    {
     "data": {
      "text/plain": [
       "'The remote server returned an error: (400) Bad Request.'"
      ]
     },
     "execution_count": 169,
     "metadata": {},
     "output_type": "execute_result"
    }
   ],
   "source": [
    "req_pub5.text"
   ]
  },
  {
   "cell_type": "markdown",
   "metadata": {},
   "source": [
    "### Versioning"
   ]
  },
  {
   "cell_type": "code",
   "execution_count": 182,
   "metadata": {},
   "outputs": [],
   "source": [
    "ver_url = \"https://ddhinboundapiuat.asestg.worldbank.org/dataset/audit/list\""
   ]
  },
  {
   "cell_type": "code",
   "execution_count": 183,
   "metadata": {},
   "outputs": [],
   "source": [
    "ver_js1 = {\n",
    "    \"data\": {\n",
    "        \"id\": \"f3ba5f65-efe2-ea11-a813-000d3a8b33eb\"\n",
    "    }\n",
    "}\n"
   ]
  },
  {
   "cell_type": "code",
   "execution_count": 184,
   "metadata": {},
   "outputs": [
    {
     "name": "stderr",
     "output_type": "stream",
     "text": [
      "DEBUG:urllib3.connectionpool:Starting new HTTPS connection (1): ddhinboundapiuat.asestg.worldbank.org:443\n",
      "DEBUG:urllib3.connectionpool:https://ddhinboundapiuat.asestg.worldbank.org:443 \"POST /dataset/audit/list HTTP/1.1\" 200 None\n"
     ]
    }
   ],
   "source": [
    "req_ver1 = requests.post(ver_url, json = ver_js1, headers = dataset.ddh_header)"
   ]
  },
  {
   "cell_type": "code",
   "execution_count": 186,
   "metadata": {},
   "outputs": [
    {
     "data": {
      "text/plain": [
       "{'dataset_id': 'f3ba5f65-efe2-ea11-a813-000d3a8b33eb',\n",
       " 'audit_items': [{'id': '87deb2a5-f6e2-ea11-a813-000d3a191e87',\n",
       "   'version_number': '2',\n",
       "   'version_name': 'v1 publish',\n",
       "   'version_id': '@2020-08-20T15:06:08.0401145Z'},\n",
       "  {'id': '9162a36d-22e3-ea11-a813-000d3a191e87',\n",
       "   'version_number': '5',\n",
       "   'version_name': 'v6 publish',\n",
       "   'version_id': '@2020-08-20T20:19:37.5821407Z'},\n",
       "  {'id': '04cccd50-9ee7-ea11-a817-000d3a191e87',\n",
       "   'version_number': '6',\n",
       "   'version_name': 'v5 publish',\n",
       "   'version_id': '@2020-08-26T13:16:29.3988111Z'},\n",
       "  {'id': 'fa9dbe98-f5e2-ea11-a813-000d3a8b33eb',\n",
       "   'version_number': '1',\n",
       "   'version_name': 'v1 publish',\n",
       "   'version_id': '@2020-08-20T14:58:35.8607903Z'},\n",
       "  {'id': '6b9575b3-f7e2-ea11-a813-000d3a8b33eb',\n",
       "   'version_number': '3',\n",
       "   'version_name': 'v3 publish',\n",
       "   'version_id': '@2020-08-20T15:13:44.6608588Z'},\n",
       "  {'id': '32d0c1bd-fbe2-ea11-a813-000d3a8b33eb',\n",
       "   'version_number': '4',\n",
       "   'version_name': 'v5 publish',\n",
       "   'version_id': '@2020-08-20T15:42:36.9240342Z'}]}"
      ]
     },
     "execution_count": 186,
     "metadata": {},
     "output_type": "execute_result"
    }
   ],
   "source": [
    "req_ver1.json()"
   ]
  },
  {
   "cell_type": "code",
   "execution_count": 81,
   "metadata": {},
   "outputs": [
    {
     "name": "stderr",
     "output_type": "stream",
     "text": [
      "DEBUG:urllib3.connectionpool:Starting new HTTPS connection (1): ddhinboundapiuat.asestg.worldbank.org:443\n",
      "DEBUG:urllib3.connectionpool:https://ddhinboundapiuat.asestg.worldbank.org:443 \"POST /resource/audit/list HTTP/1.1\" 200 None\n"
     ]
    }
   ],
   "source": [
    "ver_js2 = {\n",
    "    \"data\": {\n",
    "        \"id\": \"a5e17900-f6e2-ea11-a813-000d3a8b33eb\"\n",
    "    }\n",
    "}\n",
    "\n",
    "req_ver2 = requests.post(\"https://ddhinboundapiuat.asestg.worldbank.org/resource/audit/list\", json = ver_js2, headers = dataset.ddh_header)"
   ]
  },
  {
   "cell_type": "code",
   "execution_count": 82,
   "metadata": {},
   "outputs": [
    {
     "data": {
      "text/plain": [
       "{'dataset_resource_id': 'a5e17900-f6e2-ea11-a813-000d3a8b33eb',\n",
       " 'audit_items': [{'id': 'cbdeb2a5-f6e2-ea11-a813-000d3a191e87',\n",
       "   'version_number': '2',\n",
       "   'version_name': 'v1 publish'},\n",
       "  {'id': 'bc62a36d-22e3-ea11-a813-000d3a191e87',\n",
       "   'version_number': '5',\n",
       "   'version_name': 'v6 publish'},\n",
       "  {'id': '289b72b9-f7e2-ea11-a813-000d3a8b33eb',\n",
       "   'version_number': '3',\n",
       "   'version_name': 'v3 publish'},\n",
       "  {'id': '98d0c1bd-fbe2-ea11-a813-000d3a8b33eb',\n",
       "   'version_number': '4',\n",
       "   'version_name': 'v5 publish'}]}"
      ]
     },
     "execution_count": 82,
     "metadata": {},
     "output_type": "execute_result"
    }
   ],
   "source": [
    "req_ver2.json()"
   ]
  },
  {
   "cell_type": "markdown",
   "metadata": {},
   "source": [
    "#### View metadata versions"
   ]
  },
  {
   "cell_type": "code",
   "execution_count": 46,
   "metadata": {},
   "outputs": [],
   "source": [
    "vver_url = \"https://ddhinboundapiuat.asestg.worldbank.org/dataset/audit/view\""
   ]
  },
  {
   "cell_type": "code",
   "execution_count": 47,
   "metadata": {},
   "outputs": [
    {
     "name": "stderr",
     "output_type": "stream",
     "text": [
      "DEBUG:urllib3.connectionpool:Starting new HTTPS connection (1): ddhinboundapiuat.asestg.worldbank.org:443\n",
      "DEBUG:urllib3.connectionpool:https://ddhinboundapiuat.asestg.worldbank.org:443 \"POST /dataset/audit/view HTTP/1.1\" 200 None\n"
     ]
    }
   ],
   "source": [
    "vver_js1 = {\n",
    "    \"data\" : {\n",
    "        \"id\" : \"fa9dbe98-f5e2-ea11-a813-000d3a8b33eb\"\n",
    "    }\n",
    "}\n",
    "\n",
    "req_vv1 = requests.post(vver_url, json = vver_js1, headers = dataset.ddh_header)"
   ]
  },
  {
   "cell_type": "code",
   "execution_count": 48,
   "metadata": {},
   "outputs": [
    {
     "data": {
      "text/plain": [
       "{'id': 'fa9dbe98-f5e2-ea11-a813-000d3a8b33eb',\n",
       " 'name': 'Workflow Test 1',\n",
       " 'unique_id': '0001103',\n",
       " 'archive_nid': None,\n",
       " 'status': 'PUBLISHED',\n",
       " 'identification': {'id': '169ebe98-f5e2-ea11-a813-000d3a8b33eb',\n",
       "  'title': 'Workflow Test 1',\n",
       "  'subtitle': 'testing the basic workflow',\n",
       "  'description': None,\n",
       "  'acronym': 'WDI',\n",
       "  'topics': None,\n",
       "  'practice': {'code': 'POV', 'name': 'Poverty and Equity'},\n",
       "  'work_unit': None,\n",
       "  'working_unit_vpu': None,\n",
       "  'wb_project_reference': None,\n",
       "  'grant_number': 'Grant number 01',\n",
       "  'parent_dataset': None,\n",
       "  'collection_id': None,\n",
       "  'translated_title': 'World Development Indicators TEST ENG',\n",
       "  'point_of_contact': [{'id': '269ebe98-f5e2-ea11-a813-000d3a8b33eb',\n",
       "    'name': 'Gaurav Bhardwaj',\n",
       "    'role': {'code': 'OWNER', 'name': 'Owner'},\n",
       "    'email': 'gbhardwaj@worldbank.org',\n",
       "    'type': 'TTL',\n",
       "    'upi': '542830',\n",
       "    'is_emailaddress_visibility_externally': True},\n",
       "   {'id': '279ebe98-f5e2-ea11-a813-000d3a8b33eb',\n",
       "    'name': 'User 2',\n",
       "    'role': {'code': 'RESOURCE_PROVIDER', 'name': 'Resource Provider'},\n",
       "    'email': 'user2@abc.com',\n",
       "    'type': 'Type2',\n",
       "    'upi': '5577071',\n",
       "    'is_emailaddress_visibility_externally': False}],\n",
       "  'dates': [{'id': '149ebe98-f5e2-ea11-a813-000d3a8b33eb',\n",
       "    'date': '12/1/2020 12:00:00 AM',\n",
       "    'type': 'Type1'},\n",
       "   {'id': '159ebe98-f5e2-ea11-a813-000d3a8b33eb',\n",
       "    'date': '12/2/2020 12:00:00 AM',\n",
       "    'type': 'Type2'}],\n",
       "  'language_supported': None},\n",
       " 'keywords': None,\n",
       " 'constraints': {'id': '0f9ebe98-f5e2-ea11-a813-000d3a8b33eb',\n",
       "  'legal': {'accessConstraints': None,\n",
       "   'useConstraints': None,\n",
       "   'otherConstraints': None,\n",
       "   'disclaimer': None,\n",
       "   'copyright': None},\n",
       "  'security': {'classification': 'Official Use Only',\n",
       "   'exception': 'WBG exception1',\n",
       "   'userNote': 'WBG userNote1'},\n",
       "  'license': {'license_id': 'Creative Commons 4.0',\n",
       "   'custom_license_information': None,\n",
       "   'license_reference': None}},\n",
       " 'data_quality': {'id': '109ebe98-f5e2-ea11-a813-000d3a8b33eb',\n",
       "  'data_notes': 'WBG data_notes'},\n",
       " 'geographical_extent': {'id': '329ebe98-f5e2-ea11-a813-000d3a8b33eb',\n",
       "  'description': None,\n",
       "  'coverage': None,\n",
       "  'bounding_box_geo_json': None,\n",
       "  'bounding_box': {'west_longitude': None,\n",
       "   'east_longitude': None,\n",
       "   'north_latitude': None,\n",
       "   'south_latitude': None},\n",
       "  'vertical_extent': {'min_value': None,\n",
       "   'max_value': None,\n",
       "   'vertical_CRS': None,\n",
       "   'vertical_CRS_id': None}},\n",
       " 'temporal_extent': {'id': '319ebe98-f5e2-ea11-a813-000d3a8b33eb',\n",
       "  'end_date': '5/27/2020 12:00:00 AM',\n",
       "  'start_date': '5/26/2020 12:00:00 AM',\n",
       "  'description': 'Temporal description',\n",
       "  'duration': '1 Month',\n",
       "  'coverage': ['Coverage1', 'Coverage2']},\n",
       " 'temporal_resolution': {'periodicity': 'Hour/Minute/Second'},\n",
       " 'spatial_resolution': {'id': '2c9ebe98-f5e2-ea11-a813-000d3a8b33eb',\n",
       "  'granularity': 'Household',\n",
       "  'pixel_resolution': '1024'},\n",
       " 'reference_system': {'id': '299ebe98-f5e2-ea11-a813-000d3a8b33eb',\n",
       "  'reference_id': 'WBG reference_id',\n",
       "  'version': '1.0',\n",
       "  'map_projection': 'WBG map_projection'},\n",
       " 'lineage': {'id': '219ebe98-f5e2-ea11-a813-000d3a8b33eb',\n",
       "  'source_type': None,\n",
       "  'source': 'source',\n",
       "  'source_reference': 'source_reference',\n",
       "  'statistical_concept_and_methodology': 'statistical_concept_and_methodology',\n",
       "  'base_period': '5/25/2020 12:00:00 AM',\n",
       "  'aggregation_method': 'WBG aggregation_method',\n",
       "  'description': 'WBG description',\n",
       "  'related_links_and_publications': ['link1', 'link2'],\n",
       "  'publication_place': 'WBG publication_place',\n",
       "  'funding_name_abbreviation_role': ['name1', 'name2'],\n",
       "  'study_type': 'WBG study_type',\n",
       "  'deviations_from_sample_design': 'WBG deviations_from_sample_design',\n",
       "  'other_acknowledgements': 'WBG other acknowledgements'},\n",
       " 'maintenance_information': {'id': '259ebe98-f5e2-ea11-a813-000d3a8b33eb',\n",
       "  'update_frequency': 'Quarter',\n",
       "  'update_schedule': 'April, July, September, December',\n",
       "  'maintenance_note': 'WBG maintenance note1',\n",
       "  'embargo_date': '5/25/2020 12:00:00 AM',\n",
       "  'embargo_comments': 'WBG embargo comments',\n",
       "  'version_description': 'WBG version description1',\n",
       "  'version_production_date': '5/25/2020 12:00:00 AM',\n",
       "  'version_notes': 'WBG version notes'},\n",
       " 'subscription': {'id': '2d9ebe98-f5e2-ea11-a813-000d3a8b33eb',\n",
       "  'subscription_date_from': '5/28/2020 12:00:00 AM',\n",
       "  'subscription_date_to': '5/29/2020 12:00:00 AM'},\n",
       " 'resources': None,\n",
       " 'indicators': None}"
      ]
     },
     "execution_count": 48,
     "metadata": {},
     "output_type": "execute_result"
    }
   ],
   "source": [
    "req_vv1.json()"
   ]
  },
  {
   "cell_type": "code",
   "execution_count": 49,
   "metadata": {},
   "outputs": [
    {
     "name": "stderr",
     "output_type": "stream",
     "text": [
      "DEBUG:urllib3.connectionpool:Starting new HTTPS connection (1): ddhinboundapiuat.asestg.worldbank.org:443\n",
      "DEBUG:urllib3.connectionpool:https://ddhinboundapiuat.asestg.worldbank.org:443 \"POST /dataset/audit/view HTTP/1.1\" 200 None\n"
     ]
    }
   ],
   "source": [
    "vver_js2 = {\n",
    "    \"data\" : {\n",
    "        \"id\" : \"32d0c1bd-fbe2-ea11-a813-000d3a8b33eb\"\n",
    "    }\n",
    "}\n",
    "\n",
    "req_vv2 = requests.post(vver_url, json = vver_js2, headers = dataset.ddh_header)"
   ]
  },
  {
   "cell_type": "code",
   "execution_count": 50,
   "metadata": {},
   "outputs": [
    {
     "data": {
      "text/plain": [
       "{'id': '32d0c1bd-fbe2-ea11-a813-000d3a8b33eb',\n",
       " 'name': 'Workflow Test 1',\n",
       " 'unique_id': '0001103',\n",
       " 'archive_nid': None,\n",
       " 'status': 'PUBLISHED',\n",
       " 'identification': {'id': '71d0c1bd-fbe2-ea11-a813-000d3a8b33eb',\n",
       "  'title': 'Workflow Test 1',\n",
       "  'subtitle': 'testing the basic workflow',\n",
       "  'description': None,\n",
       "  'acronym': 'WDI',\n",
       "  'topics': None,\n",
       "  'practice': {'code': 'POV', 'name': 'Poverty and Equity'},\n",
       "  'work_unit': None,\n",
       "  'working_unit_vpu': None,\n",
       "  'wb_project_reference': None,\n",
       "  'grant_number': 'Grant number 01',\n",
       "  'parent_dataset': None,\n",
       "  'collection_id': None,\n",
       "  'translated_title': 'World Development Indicators TEST ENG',\n",
       "  'point_of_contact': [{'id': '8cd0c1bd-fbe2-ea11-a813-000d3a8b33eb',\n",
       "    'name': 'Gaurav Bhardwaj',\n",
       "    'role': {'code': 'OWNER', 'name': 'Owner'},\n",
       "    'email': 'gbhardwaj@worldbank.org',\n",
       "    'type': 'TTL',\n",
       "    'upi': '542830',\n",
       "    'is_emailaddress_visibility_externally': True},\n",
       "   {'id': '8ed0c1bd-fbe2-ea11-a813-000d3a8b33eb',\n",
       "    'name': 'User 2',\n",
       "    'role': {'code': 'RESOURCE_PROVIDER', 'name': 'Resource Provider'},\n",
       "    'email': 'user2@abc.com',\n",
       "    'type': 'Type2',\n",
       "    'upi': '5577071',\n",
       "    'is_emailaddress_visibility_externally': False}],\n",
       "  'dates': [{'id': '69d0c1bd-fbe2-ea11-a813-000d3a8b33eb',\n",
       "    'date': '12/1/2020 12:00:00 AM',\n",
       "    'type': 'Type1'},\n",
       "   {'id': '6fd0c1bd-fbe2-ea11-a813-000d3a8b33eb',\n",
       "    'date': '12/2/2020 12:00:00 AM',\n",
       "    'type': 'Type2'}],\n",
       "  'language_supported': None},\n",
       " 'keywords': None,\n",
       " 'constraints': {'id': '61d0c1bd-fbe2-ea11-a813-000d3a8b33eb',\n",
       "  'legal': {'accessConstraints': None,\n",
       "   'useConstraints': None,\n",
       "   'otherConstraints': None,\n",
       "   'disclaimer': None,\n",
       "   'copyright': None},\n",
       "  'security': {'classification': 'Official Use Only',\n",
       "   'exception': 'WBG exception1',\n",
       "   'userNote': 'WBG userNote1'},\n",
       "  'license': {'license_id': 'Creative Commons 4.0',\n",
       "   'custom_license_information': None,\n",
       "   'license_reference': None}},\n",
       " 'data_quality': {'id': '65d0c1bd-fbe2-ea11-a813-000d3a8b33eb',\n",
       "  'data_notes': 'WBG data_notes'},\n",
       " 'geographical_extent': {'id': '96d0c1bd-fbe2-ea11-a813-000d3a8b33eb',\n",
       "  'description': None,\n",
       "  'coverage': None,\n",
       "  'bounding_box_geo_json': \"{'type': 'FeatureCollection', 'features': [{'type': 'Feature', 'properties': {}, 'geometry': {'type': 'Polygon', 'coordinates': [[[77.1240234375, 28.8831596093235], [76.80541992187499, 28.51696944040106], [77.332763671875, 28.256005619824972], [77.684326171875, 28.565225490654658], [77.40966796875, 28.87353946316266], [77.1240234375, 28.8831596093235]]]}}]}\",\n",
       "  'bounding_box': {'west_longitude': '77.1240234375',\n",
       "   'east_longitude': '28.256005619824972',\n",
       "   'north_latitude': '77.684326171875',\n",
       "   'south_latitude': '28.8831596093235'},\n",
       "  'vertical_extent': {'min_value': None,\n",
       "   'max_value': None,\n",
       "   'vertical_CRS': None,\n",
       "   'vertical_CRS_id': None}},\n",
       " 'temporal_extent': {'id': '95d0c1bd-fbe2-ea11-a813-000d3a8b33eb',\n",
       "  'end_date': '5/27/2020 12:00:00 AM',\n",
       "  'start_date': '5/26/2020 12:00:00 AM',\n",
       "  'description': 'Temporal description',\n",
       "  'duration': '1 Month',\n",
       "  'coverage': ['Coverage1', 'Coverage2']},\n",
       " 'temporal_resolution': {'periodicity': 'Hour/Minute/Second'},\n",
       " 'spatial_resolution': {'id': '92d0c1bd-fbe2-ea11-a813-000d3a8b33eb',\n",
       "  'granularity': 'Household',\n",
       "  'pixel_resolution': '1024'},\n",
       " 'reference_system': {'id': '91d0c1bd-fbe2-ea11-a813-000d3a8b33eb',\n",
       "  'reference_id': 'WBG reference_id',\n",
       "  'version': '1.0',\n",
       "  'map_projection': 'WBG map_projection'},\n",
       " 'lineage': {'id': '80d0c1bd-fbe2-ea11-a813-000d3a8b33eb',\n",
       "  'source_type': None,\n",
       "  'source': 'source',\n",
       "  'source_reference': 'source_reference',\n",
       "  'statistical_concept_and_methodology': 'statistical_concept_and_methodology',\n",
       "  'base_period': '5/25/2020 12:00:00 AM',\n",
       "  'aggregation_method': 'WBG aggregation_method',\n",
       "  'description': 'WBG description',\n",
       "  'related_links_and_publications': ['link1', 'link2'],\n",
       "  'publication_place': 'WBG publication_place',\n",
       "  'funding_name_abbreviation_role': ['name1', 'name2'],\n",
       "  'study_type': 'WBG study_type',\n",
       "  'deviations_from_sample_design': 'WBG deviations_from_sample_design',\n",
       "  'other_acknowledgements': 'WBG other acknowledgements'},\n",
       " 'maintenance_information': {'id': '8bd0c1bd-fbe2-ea11-a813-000d3a8b33eb',\n",
       "  'update_frequency': 'Quarter',\n",
       "  'update_schedule': 'April, July, September, December',\n",
       "  'maintenance_note': 'WBG maintenance note1',\n",
       "  'embargo_date': '5/25/2020 12:00:00 AM',\n",
       "  'embargo_comments': 'WBG embargo comments',\n",
       "  'version_description': 'WBG version description1',\n",
       "  'version_production_date': '5/25/2020 12:00:00 AM',\n",
       "  'version_notes': 'WBG version notes'},\n",
       " 'subscription': {'id': '93d0c1bd-fbe2-ea11-a813-000d3a8b33eb',\n",
       "  'subscription_date_from': '5/28/2020 12:00:00 AM',\n",
       "  'subscription_date_to': '5/29/2020 12:00:00 AM'},\n",
       " 'resources': None,\n",
       " 'indicators': None}"
      ]
     },
     "execution_count": 50,
     "metadata": {},
     "output_type": "execute_result"
    }
   ],
   "source": [
    "req_vv2.json()"
   ]
  },
  {
   "cell_type": "code",
   "execution_count": 83,
   "metadata": {},
   "outputs": [
    {
     "name": "stderr",
     "output_type": "stream",
     "text": [
      "DEBUG:urllib3.connectionpool:Starting new HTTPS connection (1): ddhinboundapiuat.asestg.worldbank.org:443\n",
      "DEBUG:urllib3.connectionpool:https://ddhinboundapiuat.asestg.worldbank.org:443 \"POST /resource/audit/view HTTP/1.1\" 200 None\n"
     ]
    }
   ],
   "source": [
    "vver_js3 = {\n",
    "    \"data\" : {\n",
    "        \"id\" : \"bc62a36d-22e3-ea11-a813-000d3a191e87\"\n",
    "    }\n",
    "}\n",
    "\n",
    "req_vv3 = requests.post(\"https://ddhinboundapiuat.asestg.worldbank.org/resource/audit/view\", json = vver_js3, headers = dataset.ddh_header)"
   ]
  },
  {
   "cell_type": "code",
   "execution_count": 84,
   "metadata": {
    "scrolled": false
   },
   "outputs": [
    {
     "data": {
      "text/plain": [
       "{'id': 'bc62a36d-22e3-ea11-a813-000d3a191e87',\n",
       " 'name': 'Workflow Test - Resource 2',\n",
       " 'unique_id': 'DR0001056',\n",
       " 'archive_nid': None,\n",
       " 'dataset': {'id': 'f3ba5f65-efe2-ea11-a813-000d3a8b33eb',\n",
       "  'name': 'Workflow Test 1'},\n",
       " 'identification': {'id': 'c662a36d-22e3-ea11-a813-000d3a191e87',\n",
       "  'name': 'Workflow Test - Resource 2',\n",
       "  'type': None,\n",
       "  'description': None,\n",
       "  'preview_image_url': None,\n",
       "  'status': None,\n",
       "  'status_log': None,\n",
       "  'work_unit': None,\n",
       "  'file_name': None,\n",
       "  'version': None,\n",
       "  'version_date': None,\n",
       "  'citation': None,\n",
       "  'tags': None},\n",
       " 'constraints': {'id': 'bf62a36d-22e3-ea11-a813-000d3a191e87',\n",
       "  'security': {'data_classification_of_file': None,\n",
       "   'exception': 'Third party confidence'},\n",
       "  'license': {'license_id': None,\n",
       "   'custom_license_information': None,\n",
       "   'license_reference': None,\n",
       "   'license_exception': 'Third party confidence'},\n",
       "  'name': 'Workflow Test - Resource 2'},\n",
       " 'distribution': {'id': 'c362a36d-22e3-ea11-a813-000d3a191e87',\n",
       "  'format': None,\n",
       "  'geospatial_api_format': 'WBG geospatial api format',\n",
       "  'url': 'https://itsdtddhintblobuatstrg2.blob.core.windows.net/ddh-published/0001103/DR0001056/DoingBusiness.docx?versionId=2020-08-20T15:13:38.0912637Z',\n",
       "  'website_url': None,\n",
       "  'distribution_description': None,\n",
       "  'distribution_format': 'docx',\n",
       "  'distribution_size': '232.0 bytes'},\n",
       " 'geographical_extent': {'id': 'cc62a36d-22e3-ea11-a813-000d3a191e87',\n",
       "  'geo_coverage': None,\n",
       "  'countries': [{'id': 'e32bbc70-d1a5-ea11-a812-000d3a8b33f5',\n",
       "    'code': 'IN',\n",
       "    'name': 'India'},\n",
       "   {'id': 'e32bbc70-d1a5-ea11-a812-000d3a8b33f5',\n",
       "    'code': 'IN',\n",
       "    'name': 'India'}],\n",
       "  'geo_json': None,\n",
       "  'bounding_box': {'west_longitude': '77.1240234375',\n",
       "   'east_longitude': '28.256005619824972',\n",
       "   'north_latitude': '77.684326171875',\n",
       "   'south_latitude': '28.8831596093235'}},\n",
       " 'lineage': {'id': 'c762a36d-22e3-ea11-a813-000d3a191e87',\n",
       "  'harvest_source': None,\n",
       "  'harvest_system': None,\n",
       "  'source_reference': None},\n",
       " 'maintenance_information': {'id': 'c862a36d-22e3-ea11-a813-000d3a191e87',\n",
       "  'maintenance_frequency': None,\n",
       "  'maintenance_note': None},\n",
       " 'reference_system': {'id': 'c962a36d-22e3-ea11-a813-000d3a191e87',\n",
       "  'spatial_reference_system': None},\n",
       " 'spatial_extent': {'id': 'ca62a36d-22e3-ea11-a813-000d3a191e87',\n",
       "  'resource_spatial_resolution': None,\n",
       "  'name': 'Workflow Test - Resource 2'},\n",
       " 'temporal_extent': {'id': 'cb62a36d-22e3-ea11-a813-000d3a191e87',\n",
       "  'end_date': '8/26/2020 12:00:00 AM',\n",
       "  'start_date': '5/24/2020 12:00:00 AM',\n",
       "  'description': 'temporal resolution test',\n",
       "  'temporal_resolution': None}}"
      ]
     },
     "execution_count": 84,
     "metadata": {},
     "output_type": "execute_result"
    }
   ],
   "source": [
    "req_vv3.json()"
   ]
  },
  {
   "cell_type": "markdown",
   "metadata": {},
   "source": [
    "#### Update metadata of published resource"
   ]
  },
  {
   "cell_type": "code",
   "execution_count": 73,
   "metadata": {},
   "outputs": [
    {
     "name": "stderr",
     "output_type": "stream",
     "text": [
      "DEBUG:urllib3.connectionpool:Starting new HTTPS connection (1): ddhinboundapiuat.asestg.worldbank.org:443\n",
      "DEBUG:urllib3.connectionpool:https://ddhinboundapiuat.asestg.worldbank.org:443 \"POST /resource/update HTTP/1.1\" 200 None\n"
     ]
    }
   ],
   "source": [
    "##a5e17900-f6e2-ea11-a813-000d3a8b33eb\n",
    "\n",
    "pub_res_url = \"https://ddhinboundapiuat.asestg.worldbank.org/resource/update\"\n",
    "\n",
    "pub_res_js = {\n",
    "      \"Resource\": {\n",
    "        \"id\": \"a5e17900-f6e2-ea11-a813-000d3a8b33eb\",\n",
    "          \n",
    "          \"identification\": {\n",
    "        \"id\": \"a6e17900-f6e2-ea11-a813-000d3a8b33eb\",\n",
    "        \"name\": \"Workflow Test - Resource 2\"},\n",
    "          \n",
    "          \"geographical_extent\": {\"id\": \"a9e17900-f6e2-ea11-a813-000d3a8b33eb\",\n",
    "            #\"geo_coverage\": \"WBG geo_coverage\",\n",
    "            \"countries\": [\n",
    "                {\n",
    "                    \"code\": \"IN\"\n",
    "                }\n",
    "            ],\n",
    "            \"geo_json\": str(geo_js),\n",
    "            \"bounding_box\": {\n",
    "                \"west_longitude\": \"77.1240234375\",\n",
    "                \"east_longitude\": \"28.256005619824972\",\n",
    "                \"north_latitude\": \"77.684326171875\",\n",
    "                \"south_latitude\": \"28.8831596093235\"\n",
    "            }\n",
    "        }\n",
    "          \n",
    "      }\n",
    "}\n",
    "\n",
    "req_res_pub = requests.post(pub_res_url, json = pub_res_js, headers = dataset.ddh_header)"
   ]
  },
  {
   "cell_type": "code",
   "execution_count": 74,
   "metadata": {},
   "outputs": [
    {
     "data": {
      "text/plain": [
       "'EntityID: a5e17900-f6e2-ea11-a813-000d3a8b33eb'"
      ]
     },
     "execution_count": 74,
     "metadata": {},
     "output_type": "execute_result"
    }
   ],
   "source": [
    "req_res_pub.text"
   ]
  },
  {
   "cell_type": "markdown",
   "metadata": {},
   "source": [
    "#### Uploading data via requests"
   ]
  },
  {
   "cell_type": "code",
   "execution_count": 137,
   "metadata": {},
   "outputs": [
    {
     "name": "stderr",
     "output_type": "stream",
     "text": [
      "DEBUG:urllib3.connectionpool:Starting new HTTPS connection (1): ddhinboundapiuat.asestg.worldbank.org:443\n",
      "DEBUG:urllib3.connectionpool:https://ddhinboundapiuat.asestg.worldbank.org:443 \"POST /resource/upload HTTP/1.1\" 200 188\n"
     ]
    }
   ],
   "source": [
    "files = {'file': open(r'test_doc.xlsx', 'rb')}\n",
    "\n",
    "upload_url = \"https://ddhinboundapiuat.asestg.worldbank.org/resource/upload\"\n",
    "\n",
    "upload_js = {\n",
    "\"DatasetUniqueNumber\":\"0001103\",\n",
    "\"DataSetId\":\"f3ba5f65-efe2-ea11-a813-000d3a8b33eb\",\n",
    "\"DataResourceUniqueNumber\":\"DR0001056\",\n",
    "\"ResourceId\":\"a5e17900-f6e2-ea11-a813-000d3a8b33eb\",\n",
    "\"FileName\":\"test_doc.xlsx\",\n",
    "\"MimeType\":\"xlsx\"\n",
    "}\n",
    "dat = {\"param\" : upload_js}\n",
    "req_upload = requests.post(upload_url, json = dat, files=files, headers = dataset.ddh_header)"
   ]
  },
  {
   "cell_type": "code",
   "execution_count": 138,
   "metadata": {},
   "outputs": [
    {
     "data": {
      "text/plain": [
       "'{\"Success\":false,\"Message\":null,\"FileUrl\":null,\"FileType\":null,\"FileSize\":null,\"DataSetId\":null,\"ResourceId\":null}'"
      ]
     },
     "execution_count": 138,
     "metadata": {},
     "output_type": "execute_result"
    }
   ],
   "source": [
    "req_upload.text"
   ]
  },
  {
   "cell_type": "code",
   "execution_count": null,
   "metadata": {},
   "outputs": [],
   "source": [
    "'content-type': \"multipart/form-data\",\n",
    "'Content-Type': \"application/x-www-form-urlencoded\","
   ]
  },
  {
   "cell_type": "code",
   "execution_count": 118,
   "metadata": {},
   "outputs": [],
   "source": [
    "dataset.ddh_header.update({\"content-type\": \"multipart/form-data\"}) #\"Content-Type\": \"application/x-www-form-urlencoded\""
   ]
  },
  {
   "cell_type": "markdown",
   "metadata": {},
   "source": [
    "### Indicators"
   ]
  },
  {
   "cell_type": "code",
   "execution_count": 139,
   "metadata": {},
   "outputs": [],
   "source": [
    "ind_js = {\n",
    "    \"Indicator\": {\n",
    "        \"dataset_id\": \"f3ba5f65-efe2-ea11-a813-000d3a8b33eb\",\n",
    "        \"fields\": [\n",
    "            {\n",
    "                \"name\": \"Workflow test Indicator\",\n",
    "                \"title\": \"Some title for indicator\",\n",
    "                \"type\": \"POV related\",\n",
    "                #\"format\": \"A string specifying a format\",\n",
    "                #\"rdfType\": \"URI of RDF class containing semantic description of field\",\n",
    "                \"description\": \"A description for the field\",\n",
    "                \"constraints\": \"a constraints-descriptors\",\n",
    "                \"unit\": \"Unit of measurement\",\n",
    "                \"unitSystem\": \"reference to system of units\"\n",
    "            }\n",
    "        ]\n",
    "    }\n",
    "}\n"
   ]
  },
  {
   "cell_type": "code",
   "execution_count": 142,
   "metadata": {},
   "outputs": [
    {
     "name": "stderr",
     "output_type": "stream",
     "text": [
      "DEBUG:urllib3.connectionpool:Starting new HTTPS connection (1): ddhinboundapiuat.asestg.worldbank.org:443\n",
      "DEBUG:urllib3.connectionpool:https://ddhinboundapiuat.asestg.worldbank.org:443 \"POST /indicator/create HTTP/1.1\" 200 None\n"
     ]
    }
   ],
   "source": [
    "ind_cr_url = \"https://ddhinboundapiuat.asestg.worldbank.org/indicator/create\"\n",
    "\n",
    "req_ind = requests.post(ind_cr_url, json = ind_js, headers = dataset.ddh_header)"
   ]
  },
  {
   "cell_type": "code",
   "execution_count": 143,
   "metadata": {},
   "outputs": [
    {
     "data": {
      "text/plain": [
       "'EntityID: 72c76eb4-c6e3-ea11-a813-000d3a8b33eb'"
      ]
     },
     "execution_count": 143,
     "metadata": {},
     "output_type": "execute_result"
    }
   ],
   "source": [
    "req_ind.text"
   ]
  },
  {
   "cell_type": "code",
   "execution_count": 157,
   "metadata": {},
   "outputs": [
    {
     "name": "stderr",
     "output_type": "stream",
     "text": [
      "DEBUG:urllib3.connectionpool:Starting new HTTPS connection (1): ddhinboundapiuat.asestg.worldbank.org:443\n",
      "DEBUG:urllib3.connectionpool:https://ddhinboundapiuat.asestg.worldbank.org:443 \"POST /dataset/view HTTP/1.1\" 200 None\n"
     ]
    }
   ],
   "source": [
    "dat_view= \"https://ddhinboundapiuat.asestg.worldbank.org/dataset/view\"\n",
    "\n",
    "view_js = {\n",
    "    \"data\": {\n",
    "        \"id\" : \"f3ba5f65-efe2-ea11-a813-000d3a8b33eb\"\n",
    "    }\n",
    "}\n",
    "\n",
    "req_ind = requests.post(dat_view, json = view_js, headers = dataset.ddh_header)"
   ]
  },
  {
   "cell_type": "code",
   "execution_count": null,
   "metadata": {},
   "outputs": [],
   "source": []
  }
 ],
 "metadata": {
  "kernelspec": {
   "display_name": "Python 3",
   "language": "python",
   "name": "python3"
  },
  "language_info": {
   "codemirror_mode": {
    "name": "ipython",
    "version": 3
   },
   "file_extension": ".py",
   "mimetype": "text/x-python",
   "name": "python",
   "nbconvert_exporter": "python",
   "pygments_lexer": "ipython3",
   "version": "3.6.10"
  }
 },
 "nbformat": 4,
 "nbformat_minor": 4
}
